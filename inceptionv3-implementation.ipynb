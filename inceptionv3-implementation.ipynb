{
 "cells": [
  {
   "cell_type": "code",
   "execution_count": 1,
   "metadata": {
    "_cell_guid": "b1076dfc-b9ad-4769-8c92-a6c4dae69d19",
    "_uuid": "8f2839f25d086af736a60e9eeb907d3b93b6e0e5",
    "tags": []
   },
   "outputs": [],
   "source": [
    "import matplotlib.pyplot as plt\n",
    "import numpy as np # linear algebra\n",
    "import pandas as pd # data processing, CSV file I/O (e.g. pd.read_csv)\n",
    "import tensorflow as tf\n",
    "import cv2\n",
    "from keras.preprocessing.image import ImageDataGenerator\n",
    "from keras import backend as K\n",
    "import keras\n",
    "from keras.models import Sequential, Model,load_model\n",
    "from tensorflow.keras.optimizers import SGD, Adam\n",
    "from keras.callbacks import EarlyStopping,ModelCheckpoint\n",
    "from keras.layers import Input, Add, Dense, Activation, ZeroPadding2D, BatchNormalization, Flatten, Conv2D, AveragePooling2D, MaxPooling2D, GlobalMaxPooling2D,MaxPool2D, Dropout\n",
    "from keras.preprocessing import image\n",
    "from keras.initializers import glorot_uniform\n",
    "from tensorflow.keras.applications import inception_v3\n",
    "from tensorflow.keras.models import Sequential\n",
    "from tensorflow.keras.preprocessing.image import ImageDataGenerator\n",
    "import librosa\n",
    "import librosa.display\n",
    "from tqdm import tqdm\n",
    "from sklearn.model_selection import train_test_split\n",
    "import sklearn.preprocessing\n",
    "import shutil\n",
    "import os\n",
    "from keras.callbacks import ReduceLROnPlateau\n",
    "\n",
    "label_csv = './GTZEN/features_30_sec.csv'\n",
    "audio_fpath = \"./GTZEN/genres_original/\""
   ]
  },
  {
   "cell_type": "code",
   "execution_count": 2,
   "metadata": {
    "tags": []
   },
   "outputs": [],
   "source": [
    "def get_image_path(x):\n",
    "    splited = x.split('.')\n",
    "    folder = './GTZEN/images_original/'+splited[0] + '/'\n",
    "    filename = splited[0]+splited[1]+'.png'\n",
    "    return folder+filename\n",
    "\n",
    "def create_dir(dirname):\n",
    "    if os.path.exists(dirname):\n",
    "        pass\n",
    "    else:\n",
    "        os.makedirs(dirname)\n",
    "        "
   ]
  },
  {
   "cell_type": "code",
   "execution_count": 3,
   "metadata": {
    "tags": []
   },
   "outputs": [
    {
     "name": "stdout",
     "output_type": "stream",
     "text": [
      "          filename  length  chroma_stft_mean  chroma_stft_var  rms_mean  \\\n",
      "0  blues.00000.wav  661794          0.350088         0.088757  0.130228   \n",
      "1  blues.00001.wav  661794          0.340914         0.094980  0.095948   \n",
      "2  blues.00002.wav  661794          0.363637         0.085275  0.175570   \n",
      "3  blues.00003.wav  661794          0.404785         0.093999  0.141093   \n",
      "4  blues.00004.wav  661794          0.308526         0.087841  0.091529   \n",
      "\n",
      "    rms_var  spectral_centroid_mean  spectral_centroid_var  \\\n",
      "0  0.002827             1784.165850          129774.064525   \n",
      "1  0.002373             1530.176679          375850.073649   \n",
      "2  0.002746             1552.811865          156467.643368   \n",
      "3  0.006346             1070.106615          184355.942417   \n",
      "4  0.002303             1835.004266          343399.939274   \n",
      "\n",
      "   spectral_bandwidth_mean  spectral_bandwidth_var  ...  mfcc16_var  \\\n",
      "0              2002.449060            85882.761315  ...   52.420910   \n",
      "1              2039.036516           213843.755497  ...   55.356403   \n",
      "2              1747.702312            76254.192257  ...   40.598766   \n",
      "3              1596.412872           166441.494769  ...   44.427753   \n",
      "4              1748.172116            88445.209036  ...   86.099236   \n",
      "\n",
      "   mfcc17_mean  mfcc17_var  mfcc18_mean  mfcc18_var  mfcc19_mean  mfcc19_var  \\\n",
      "0    -1.690215   36.524071    -0.408979   41.597103    -2.303523   55.062923   \n",
      "1    -0.731125   60.314529     0.295073   48.120598    -0.283518   51.106190   \n",
      "2    -7.729093   47.639427    -1.816407   52.382141    -3.439720   46.639660   \n",
      "3    -3.319597   50.206673     0.636965   37.319130    -0.619121   37.259739   \n",
      "4    -5.454034   75.269707    -0.916874   53.613918    -4.404827   62.910812   \n",
      "\n",
      "   mfcc20_mean  mfcc20_var  label  \n",
      "0     1.221291   46.936035  blues  \n",
      "1     0.531217   45.786282  blues  \n",
      "2    -2.231258   30.573025  blues  \n",
      "3    -3.407448   31.949339  blues  \n",
      "4   -11.703234   55.195160  blues  \n",
      "\n",
      "[5 rows x 60 columns]\n"
     ]
    },
    {
     "data": {
      "text/plain": [
       "(1000, 60)"
      ]
     },
     "execution_count": 3,
     "metadata": {},
     "output_type": "execute_result"
    }
   ],
   "source": [
    "df = pd.read_csv(label_csv)\n",
    "\n",
    "print(df.head())\n",
    "df.shape"
   ]
  },
  {
   "cell_type": "code",
   "execution_count": 4,
   "metadata": {
    "tags": []
   },
   "outputs": [
    {
     "name": "stderr",
     "output_type": "stream",
     "text": [
      "524it [00:01, 325.16it/s]C:\\Users\\Sumit\\miniconda3\\envs\\tf-cuda\\lib\\site-packages\\librosa\\util\\decorators.py:88: UserWarning: PySoundFile failed. Trying audioread instead.\n",
      "  return f(*args, **kwargs)\n",
      "593it [00:01, 328.28it/s]"
     ]
    },
    {
     "name": "stdout",
     "output_type": "stream",
     "text": [
      "jazz.00054.wav is not a valid file\n"
     ]
    },
    {
     "name": "stderr",
     "output_type": "stream",
     "text": [
      "1000it [00:03, 315.84it/s]\n"
     ]
    }
   ],
   "source": [
    "trainframe = []\n",
    "for index, row in tqdm(df.iterrows()):\n",
    "#     if row['filename'] == 'jazz.00054.wav':\n",
    "#         continue\n",
    "    i = 0\n",
    "    \n",
    "    file_name = os.path.join(os.path.abspath(audio_fpath),str(row['label'] + '/'), str(row['filename']))\n",
    "    dirname='./prep/' + row['label']\n",
    "    if not os.path.exists(dirname):\n",
    "        create_dir(dirname)\n",
    "    try:\n",
    "        data, sr = librosa.load(file_name)\n",
    "    except:\n",
    "        print(str(row['filename'])+ ' is not a valid file')\n",
    "    else: \n",
    "        \n",
    "        file_name = os.path.join(os.path.abspath(audio_fpath),str(row['label'] + '/'), str(row['filename']))\n",
    "        mfcc = []\n",
    "        length = row['length']/10\n",
    "        start = 0\n",
    "        end = length\n",
    "#         print(str(start) + ' / ' + (str(end)) + ' / ' + str(length))\n",
    "        while i < 10:\n",
    "            out_file = dirname+ '/' + row['filename'].split('.wav')[0] + '.' + str(i) + '.png'\n",
    "            file_name=(out_file.split('/')[-1])\n",
    "            label=(row['label'])\n",
    "            trainframe.append([file_name, label])\n",
    "            if os.path.exists(out_file):\n",
    "                t = end\n",
    "                start = end\n",
    "                end = t + length\n",
    "                i = i + 1\n",
    "                continue\n",
    "            frag = data[int(start):int(end)]\n",
    "            mfcc = librosa.feature.mfcc(y = frag, sr = sr, n_mfcc=20)\n",
    "            mfcc = np.subtract(mfcc, np.mean(mfcc))\n",
    "            mfcc_gram = librosa.amplitude_to_db(mfcc, ref=np.min)\n",
    "            librosa.display.specshow(mfcc_gram, sr=sr)\n",
    "            plt.colorbar(format='%+2.0f dB')\n",
    "            plt.savefig(out_file)\n",
    "#             plt.show()\n",
    "            plt.clf()\n",
    "            t = end\n",
    "            start = end\n",
    "            end = t + length\n",
    "            i = i + 1"
   ]
  },
  {
   "cell_type": "code",
   "execution_count": 5,
   "metadata": {
    "tags": []
   },
   "outputs": [
    {
     "data": {
      "text/plain": [
       "(9990, 2)"
      ]
     },
     "execution_count": 5,
     "metadata": {},
     "output_type": "execute_result"
    }
   ],
   "source": [
    "np.array(trainframe).shape"
   ]
  },
  {
   "cell_type": "code",
   "execution_count": 6,
   "metadata": {
    "tags": []
   },
   "outputs": [
    {
     "data": {
      "text/html": [
       "<div>\n",
       "<style scoped>\n",
       "    .dataframe tbody tr th:only-of-type {\n",
       "        vertical-align: middle;\n",
       "    }\n",
       "\n",
       "    .dataframe tbody tr th {\n",
       "        vertical-align: top;\n",
       "    }\n",
       "\n",
       "    .dataframe thead th {\n",
       "        text-align: right;\n",
       "    }\n",
       "</style>\n",
       "<table border=\"1\" class=\"dataframe\">\n",
       "  <thead>\n",
       "    <tr style=\"text-align: right;\">\n",
       "      <th></th>\n",
       "      <th>filename</th>\n",
       "      <th>class</th>\n",
       "    </tr>\n",
       "  </thead>\n",
       "  <tbody>\n",
       "    <tr>\n",
       "      <th>0</th>\n",
       "      <td>blues.00000.0.png</td>\n",
       "      <td>blues</td>\n",
       "    </tr>\n",
       "    <tr>\n",
       "      <th>1</th>\n",
       "      <td>blues.00000.1.png</td>\n",
       "      <td>blues</td>\n",
       "    </tr>\n",
       "    <tr>\n",
       "      <th>2</th>\n",
       "      <td>blues.00000.2.png</td>\n",
       "      <td>blues</td>\n",
       "    </tr>\n",
       "    <tr>\n",
       "      <th>3</th>\n",
       "      <td>blues.00000.3.png</td>\n",
       "      <td>blues</td>\n",
       "    </tr>\n",
       "    <tr>\n",
       "      <th>4</th>\n",
       "      <td>blues.00000.4.png</td>\n",
       "      <td>blues</td>\n",
       "    </tr>\n",
       "  </tbody>\n",
       "</table>\n",
       "</div>"
      ],
      "text/plain": [
       "            filename  class\n",
       "0  blues.00000.0.png  blues\n",
       "1  blues.00000.1.png  blues\n",
       "2  blues.00000.2.png  blues\n",
       "3  blues.00000.3.png  blues\n",
       "4  blues.00000.4.png  blues"
      ]
     },
     "execution_count": 6,
     "metadata": {},
     "output_type": "execute_result"
    }
   ],
   "source": [
    "feature_df = pd.DataFrame(trainframe, columns=['filename','class'])\n",
    "\n",
    "feature_df.head()"
   ]
  },
  {
   "cell_type": "code",
   "execution_count": 7,
   "metadata": {
    "tags": []
   },
   "outputs": [
    {
     "data": {
      "text/plain": [
       "(9990,)"
      ]
     },
     "execution_count": 7,
     "metadata": {},
     "output_type": "execute_result"
    }
   ],
   "source": [
    "x = np.array(feature_df['filename'].tolist())\n",
    "\n",
    "x.shape"
   ]
  },
  {
   "cell_type": "code",
   "execution_count": 8,
   "metadata": {
    "tags": []
   },
   "outputs": [],
   "source": [
    "target = np.array(feature_df['class'].tolist())"
   ]
  },
  {
   "cell_type": "code",
   "execution_count": 9,
   "metadata": {
    "tags": []
   },
   "outputs": [
    {
     "name": "stdout",
     "output_type": "stream",
     "text": [
      "(9990, 10)\n"
     ]
    },
    {
     "data": {
      "text/html": [
       "<div>\n",
       "<style scoped>\n",
       "    .dataframe tbody tr th:only-of-type {\n",
       "        vertical-align: middle;\n",
       "    }\n",
       "\n",
       "    .dataframe tbody tr th {\n",
       "        vertical-align: top;\n",
       "    }\n",
       "\n",
       "    .dataframe thead th {\n",
       "        text-align: right;\n",
       "    }\n",
       "</style>\n",
       "<table border=\"1\" class=\"dataframe\">\n",
       "  <thead>\n",
       "    <tr style=\"text-align: right;\">\n",
       "      <th></th>\n",
       "      <th>blues</th>\n",
       "      <th>classical</th>\n",
       "      <th>country</th>\n",
       "      <th>disco</th>\n",
       "      <th>hiphop</th>\n",
       "      <th>jazz</th>\n",
       "      <th>metal</th>\n",
       "      <th>pop</th>\n",
       "      <th>reggae</th>\n",
       "      <th>rock</th>\n",
       "    </tr>\n",
       "  </thead>\n",
       "  <tbody>\n",
       "    <tr>\n",
       "      <th>0</th>\n",
       "      <td>1</td>\n",
       "      <td>0</td>\n",
       "      <td>0</td>\n",
       "      <td>0</td>\n",
       "      <td>0</td>\n",
       "      <td>0</td>\n",
       "      <td>0</td>\n",
       "      <td>0</td>\n",
       "      <td>0</td>\n",
       "      <td>0</td>\n",
       "    </tr>\n",
       "    <tr>\n",
       "      <th>1</th>\n",
       "      <td>1</td>\n",
       "      <td>0</td>\n",
       "      <td>0</td>\n",
       "      <td>0</td>\n",
       "      <td>0</td>\n",
       "      <td>0</td>\n",
       "      <td>0</td>\n",
       "      <td>0</td>\n",
       "      <td>0</td>\n",
       "      <td>0</td>\n",
       "    </tr>\n",
       "    <tr>\n",
       "      <th>2</th>\n",
       "      <td>1</td>\n",
       "      <td>0</td>\n",
       "      <td>0</td>\n",
       "      <td>0</td>\n",
       "      <td>0</td>\n",
       "      <td>0</td>\n",
       "      <td>0</td>\n",
       "      <td>0</td>\n",
       "      <td>0</td>\n",
       "      <td>0</td>\n",
       "    </tr>\n",
       "    <tr>\n",
       "      <th>3</th>\n",
       "      <td>1</td>\n",
       "      <td>0</td>\n",
       "      <td>0</td>\n",
       "      <td>0</td>\n",
       "      <td>0</td>\n",
       "      <td>0</td>\n",
       "      <td>0</td>\n",
       "      <td>0</td>\n",
       "      <td>0</td>\n",
       "      <td>0</td>\n",
       "    </tr>\n",
       "    <tr>\n",
       "      <th>4</th>\n",
       "      <td>1</td>\n",
       "      <td>0</td>\n",
       "      <td>0</td>\n",
       "      <td>0</td>\n",
       "      <td>0</td>\n",
       "      <td>0</td>\n",
       "      <td>0</td>\n",
       "      <td>0</td>\n",
       "      <td>0</td>\n",
       "      <td>0</td>\n",
       "    </tr>\n",
       "  </tbody>\n",
       "</table>\n",
       "</div>"
      ],
      "text/plain": [
       "   blues  classical  country  disco  hiphop  jazz  metal  pop  reggae  rock\n",
       "0      1          0        0      0       0     0      0    0       0     0\n",
       "1      1          0        0      0       0     0      0    0       0     0\n",
       "2      1          0        0      0       0     0      0    0       0     0\n",
       "3      1          0        0      0       0     0      0    0       0     0\n",
       "4      1          0        0      0       0     0      0    0       0     0"
      ]
     },
     "execution_count": 9,
     "metadata": {},
     "output_type": "execute_result"
    }
   ],
   "source": [
    "y_new = pd.get_dummies(target)\n",
    "print(y_new.shape)\n",
    "y_new.head()"
   ]
  },
  {
   "cell_type": "code",
   "execution_count": 10,
   "metadata": {
    "tags": []
   },
   "outputs": [
    {
     "data": {
      "text/html": [
       "<div>\n",
       "<style scoped>\n",
       "    .dataframe tbody tr th:only-of-type {\n",
       "        vertical-align: middle;\n",
       "    }\n",
       "\n",
       "    .dataframe tbody tr th {\n",
       "        vertical-align: top;\n",
       "    }\n",
       "\n",
       "    .dataframe thead th {\n",
       "        text-align: right;\n",
       "    }\n",
       "</style>\n",
       "<table border=\"1\" class=\"dataframe\">\n",
       "  <thead>\n",
       "    <tr style=\"text-align: right;\">\n",
       "      <th></th>\n",
       "      <th>filename</th>\n",
       "      <th>path</th>\n",
       "      <th>class</th>\n",
       "    </tr>\n",
       "  </thead>\n",
       "  <tbody>\n",
       "    <tr>\n",
       "      <th>0</th>\n",
       "      <td>blues.00000.0.png</td>\n",
       "      <td>blues/blues.00000.0.png</td>\n",
       "      <td>blues</td>\n",
       "    </tr>\n",
       "    <tr>\n",
       "      <th>1</th>\n",
       "      <td>blues.00000.1.png</td>\n",
       "      <td>blues/blues.00000.1.png</td>\n",
       "      <td>blues</td>\n",
       "    </tr>\n",
       "    <tr>\n",
       "      <th>2</th>\n",
       "      <td>blues.00000.2.png</td>\n",
       "      <td>blues/blues.00000.2.png</td>\n",
       "      <td>blues</td>\n",
       "    </tr>\n",
       "    <tr>\n",
       "      <th>3</th>\n",
       "      <td>blues.00000.3.png</td>\n",
       "      <td>blues/blues.00000.3.png</td>\n",
       "      <td>blues</td>\n",
       "    </tr>\n",
       "    <tr>\n",
       "      <th>4</th>\n",
       "      <td>blues.00000.4.png</td>\n",
       "      <td>blues/blues.00000.4.png</td>\n",
       "      <td>blues</td>\n",
       "    </tr>\n",
       "  </tbody>\n",
       "</table>\n",
       "</div>"
      ],
      "text/plain": [
       "            filename                     path  class\n",
       "0  blues.00000.0.png  blues/blues.00000.0.png  blues\n",
       "1  blues.00000.1.png  blues/blues.00000.1.png  blues\n",
       "2  blues.00000.2.png  blues/blues.00000.2.png  blues\n",
       "3  blues.00000.3.png  blues/blues.00000.3.png  blues\n",
       "4  blues.00000.4.png  blues/blues.00000.4.png  blues"
      ]
     },
     "execution_count": 10,
     "metadata": {},
     "output_type": "execute_result"
    }
   ],
   "source": [
    "data = feature_df\n",
    "data['filename'] = feature_df['filename'].apply(lambda x:x.replace('.wav', '.png'))\n",
    "data['temp'] = feature_df['class'] +'/' + feature_df['filename'] \n",
    "data['path'] = data['temp']\n",
    "data = data[['filename','path', 'class']]\n",
    "data.head()"
   ]
  },
  {
   "cell_type": "code",
   "execution_count": 11,
   "metadata": {
    "tags": []
   },
   "outputs": [
    {
     "name": "stdout",
     "output_type": "stream",
     "text": [
      "(8991, 3), (999, 3)\n",
      "Found 9990 validated image filenames belonging to 10 classes.\n"
     ]
    }
   ],
   "source": [
    "X_train, X_test = train_test_split(\n",
    "         data,  test_size=0.1, random_state=15)\n",
    "\n",
    "print(str(X_train.shape)+ ', ' + str(X_test.shape))\n",
    "datagen = ImageDataGenerator()\n",
    "it = datagen.flow_from_dataframe(\n",
    "    data,\n",
    "    x_col=\"path\",\n",
    "    y_col=\"class\",batch_size=1,\n",
    "    directory='./prep/')\n",
    "\n",
    "inp = Input(shape = next(it)[0][0].shape)\n",
    "\n",
    "model = inception_v3.InceptionV3(\n",
    "    include_top=False,\n",
    "    weights=\"imagenet\",\n",
    "    classes=10,\n",
    "    input_tensor = inp\n",
    ")"
   ]
  },
  {
   "cell_type": "code",
   "execution_count": 12,
   "metadata": {
    "tags": []
   },
   "outputs": [],
   "source": [
    "for layer in model.layers:\n",
    "    layer.trainable=False"
   ]
  },
  {
   "cell_type": "code",
   "execution_count": 13,
   "metadata": {
    "tags": []
   },
   "outputs": [
    {
     "name": "stdout",
     "output_type": "stream",
     "text": [
      "Model: \"sequential\"\n",
      "_________________________________________________________________\n",
      " Layer (type)                Output Shape              Param #   \n",
      "=================================================================\n",
      " inception_v3 (Functional)   (None, 6, 6, 2048)        21802784  \n",
      "                                                                 \n",
      " flatten (Flatten)           (None, 73728)             0         \n",
      "                                                                 \n",
      " batch_normalization_94 (Bat  (None, 73728)            294912    \n",
      " chNormalization)                                                \n",
      "                                                                 \n",
      " dense (Dense)               (None, 256)               18874624  \n",
      "                                                                 \n",
      " dropout (Dropout)           (None, 256)               0         \n",
      "                                                                 \n",
      " batch_normalization_95 (Bat  (None, 256)              1024      \n",
      " chNormalization)                                                \n",
      "                                                                 \n",
      " dense_1 (Dense)             (None, 128)               32896     \n",
      "                                                                 \n",
      " dropout_1 (Dropout)         (None, 128)               0         \n",
      "                                                                 \n",
      " batch_normalization_96 (Bat  (None, 128)              512       \n",
      " chNormalization)                                                \n",
      "                                                                 \n",
      " dense_2 (Dense)             (None, 64)                8256      \n",
      "                                                                 \n",
      " dropout_2 (Dropout)         (None, 64)                0         \n",
      "                                                                 \n",
      " dense_3 (Dense)             (None, 10)                650       \n",
      "                                                                 \n",
      "=================================================================\n",
      "Total params: 41,015,658\n",
      "Trainable params: 19,064,650\n",
      "Non-trainable params: 21,951,008\n",
      "_________________________________________________________________\n",
      "None\n"
     ]
    }
   ],
   "source": [
    "new_model = Sequential()\n",
    "new_model.add(model)\n",
    "new_model.add(Flatten())\n",
    "new_model.add(BatchNormalization())\n",
    "new_model.add(Dense(256, activation='relu'))\n",
    "new_model.add(Dropout(0.5))\n",
    "new_model.add(BatchNormalization())\n",
    "new_model.add(Dense(128, activation='relu'))\n",
    "new_model.add(Dropout(0.5))\n",
    "new_model.add(BatchNormalization())\n",
    "new_model.add(Dense(64, activation='relu'))\n",
    "new_model.add(Dropout(0.5))\n",
    "new_model.add(Dense(10, activation='softmax'))\n",
    "\n",
    "new_model.compile(loss = 'categorical_crossentropy',optimizer='SGD',metrics=['accuracy'])\n",
    "print(new_model.summary())"
   ]
  },
  {
   "cell_type": "code",
   "execution_count": 14,
   "metadata": {
    "tags": []
   },
   "outputs": [
    {
     "name": "stdout",
     "output_type": "stream",
     "text": [
      "Found 8991 validated image filenames belonging to 10 classes.\n",
      "Found 999 validated image filenames belonging to 10 classes.\n",
      "Epoch 1/100\n",
      "141/141 [==============================] - 125s 800ms/step - loss: 2.4884 - accuracy: 0.2049 - val_loss: 1.8380 - val_accuracy: 0.3233\n",
      "Epoch 2/100\n",
      "141/141 [==============================] - 65s 458ms/step - loss: 2.1390 - accuracy: 0.2669 - val_loss: 1.7479 - val_accuracy: 0.3714\n",
      "Epoch 3/100\n",
      "141/141 [==============================] - 65s 458ms/step - loss: 2.0294 - accuracy: 0.2922 - val_loss: 1.7108 - val_accuracy: 0.3984\n",
      "Epoch 4/100\n",
      "141/141 [==============================] - 65s 456ms/step - loss: 1.9511 - accuracy: 0.3051 - val_loss: 1.6736 - val_accuracy: 0.3944\n",
      "Epoch 5/100\n",
      "141/141 [==============================] - 65s 457ms/step - loss: 1.8790 - accuracy: 0.3239 - val_loss: 1.6443 - val_accuracy: 0.4134\n",
      "Epoch 6/100\n",
      "141/141 [==============================] - 65s 457ms/step - loss: 1.7976 - accuracy: 0.3472 - val_loss: 1.6166 - val_accuracy: 0.4154\n",
      "Epoch 7/100\n",
      "141/141 [==============================] - 65s 457ms/step - loss: 1.7844 - accuracy: 0.3545 - val_loss: 1.5930 - val_accuracy: 0.4334\n",
      "Epoch 8/100\n",
      "141/141 [==============================] - 65s 457ms/step - loss: 1.7542 - accuracy: 0.3640 - val_loss: 1.5763 - val_accuracy: 0.4354\n",
      "Epoch 9/100\n",
      "141/141 [==============================] - 64s 455ms/step - loss: 1.7128 - accuracy: 0.3765 - val_loss: 1.5607 - val_accuracy: 0.4354\n",
      "Epoch 10/100\n",
      "141/141 [==============================] - 65s 456ms/step - loss: 1.6871 - accuracy: 0.3830 - val_loss: 1.5415 - val_accuracy: 0.4374\n",
      "Epoch 11/100\n",
      "141/141 [==============================] - 64s 455ms/step - loss: 1.6553 - accuracy: 0.3960 - val_loss: 1.5279 - val_accuracy: 0.4334\n",
      "Epoch 12/100\n",
      "141/141 [==============================] - 64s 455ms/step - loss: 1.6270 - accuracy: 0.4030 - val_loss: 1.5139 - val_accuracy: 0.4354\n",
      "Epoch 13/100\n",
      "141/141 [==============================] - 65s 456ms/step - loss: 1.6068 - accuracy: 0.4157 - val_loss: 1.5014 - val_accuracy: 0.4555\n",
      "Epoch 14/100\n",
      "141/141 [==============================] - 65s 457ms/step - loss: 1.5931 - accuracy: 0.4216 - val_loss: 1.4896 - val_accuracy: 0.4585\n",
      "Epoch 15/100\n",
      "141/141 [==============================] - 64s 453ms/step - loss: 1.5696 - accuracy: 0.4224 - val_loss: 1.4734 - val_accuracy: 0.4665\n",
      "Epoch 16/100\n",
      "141/141 [==============================] - 64s 451ms/step - loss: 1.5535 - accuracy: 0.4263 - val_loss: 1.4660 - val_accuracy: 0.4625\n",
      "Epoch 17/100\n",
      "141/141 [==============================] - 64s 452ms/step - loss: 1.5286 - accuracy: 0.4397 - val_loss: 1.4531 - val_accuracy: 0.4675\n",
      "Epoch 18/100\n",
      "141/141 [==============================] - 64s 452ms/step - loss: 1.5170 - accuracy: 0.4433 - val_loss: 1.4460 - val_accuracy: 0.4725\n",
      "Epoch 19/100\n",
      "141/141 [==============================] - 64s 452ms/step - loss: 1.4948 - accuracy: 0.4518 - val_loss: 1.4435 - val_accuracy: 0.4755\n",
      "Epoch 20/100\n",
      "141/141 [==============================] - 64s 451ms/step - loss: 1.4842 - accuracy: 0.4513 - val_loss: 1.4379 - val_accuracy: 0.4665\n",
      "Epoch 21/100\n",
      "141/141 [==============================] - 64s 452ms/step - loss: 1.4700 - accuracy: 0.4591 - val_loss: 1.4234 - val_accuracy: 0.4835\n",
      "Epoch 22/100\n",
      "141/141 [==============================] - 64s 451ms/step - loss: 1.4530 - accuracy: 0.4710 - val_loss: 1.4162 - val_accuracy: 0.4835\n",
      "Epoch 23/100\n",
      "141/141 [==============================] - 64s 452ms/step - loss: 1.4290 - accuracy: 0.4855 - val_loss: 1.4015 - val_accuracy: 0.5075\n",
      "Epoch 24/100\n",
      "141/141 [==============================] - 64s 451ms/step - loss: 1.4303 - accuracy: 0.4724 - val_loss: 1.3998 - val_accuracy: 0.4975\n",
      "Epoch 25/100\n",
      "141/141 [==============================] - 64s 451ms/step - loss: 1.4130 - accuracy: 0.4866 - val_loss: 1.3990 - val_accuracy: 0.4995\n",
      "Epoch 26/100\n",
      "141/141 [==============================] - 64s 451ms/step - loss: 1.3933 - accuracy: 0.4910 - val_loss: 1.4005 - val_accuracy: 0.4965\n",
      "Epoch 27/100\n",
      "141/141 [==============================] - 64s 452ms/step - loss: 1.3849 - accuracy: 0.4932 - val_loss: 1.3894 - val_accuracy: 0.5035\n",
      "Epoch 28/100\n",
      "141/141 [==============================] - 64s 453ms/step - loss: 1.3729 - accuracy: 0.5041 - val_loss: 1.3782 - val_accuracy: 0.5125\n",
      "Epoch 29/100\n",
      "141/141 [==============================] - 64s 451ms/step - loss: 1.3749 - accuracy: 0.5004 - val_loss: 1.3637 - val_accuracy: 0.5115\n",
      "Epoch 30/100\n",
      "141/141 [==============================] - 64s 452ms/step - loss: 1.3402 - accuracy: 0.5082 - val_loss: 1.3508 - val_accuracy: 0.5185\n",
      "Epoch 31/100\n",
      "141/141 [==============================] - 64s 451ms/step - loss: 1.3290 - accuracy: 0.5183 - val_loss: 1.3726 - val_accuracy: 0.5035\n",
      "Epoch 32/100\n",
      "141/141 [==============================] - 64s 451ms/step - loss: 1.3086 - accuracy: 0.5196 - val_loss: 1.3638 - val_accuracy: 0.5095\n",
      "Epoch 33/100\n",
      "141/141 [==============================] - 64s 452ms/step - loss: 1.2990 - accuracy: 0.5293 - val_loss: 1.3445 - val_accuracy: 0.5285\n",
      "Epoch 34/100\n",
      "141/141 [==============================] - 64s 452ms/step - loss: 1.2880 - accuracy: 0.5291 - val_loss: 1.3451 - val_accuracy: 0.5265\n",
      "Epoch 35/100\n",
      "141/141 [==============================] - 64s 451ms/step - loss: 1.2621 - accuracy: 0.5240 - val_loss: 1.3591 - val_accuracy: 0.5195\n",
      "Epoch 36/100\n",
      "141/141 [==============================] - 64s 453ms/step - loss: 1.2551 - accuracy: 0.5382 - val_loss: 1.3437 - val_accuracy: 0.5305\n",
      "Epoch 37/100\n",
      "141/141 [==============================] - 64s 451ms/step - loss: 1.2324 - accuracy: 0.5448 - val_loss: 1.3378 - val_accuracy: 0.5245\n",
      "Epoch 38/100\n",
      "141/141 [==============================] - 64s 451ms/step - loss: 1.2337 - accuracy: 0.5457 - val_loss: 1.3370 - val_accuracy: 0.5305\n",
      "Epoch 39/100\n",
      "141/141 [==============================] - 64s 451ms/step - loss: 1.2216 - accuracy: 0.5483 - val_loss: 1.3471 - val_accuracy: 0.5265\n",
      "Epoch 40/100\n",
      "141/141 [==============================] - 64s 451ms/step - loss: 1.2330 - accuracy: 0.5485 - val_loss: 1.3699 - val_accuracy: 0.5185\n",
      "Epoch 41/100\n",
      "141/141 [==============================] - 64s 451ms/step - loss: 1.2007 - accuracy: 0.5625 - val_loss: 1.3611 - val_accuracy: 0.5175\n",
      "Epoch 42/100\n",
      "141/141 [==============================] - 64s 451ms/step - loss: 1.1865 - accuracy: 0.5608 - val_loss: 1.3239 - val_accuracy: 0.5305\n",
      "Epoch 43/100\n",
      "141/141 [==============================] - 64s 451ms/step - loss: 1.1943 - accuracy: 0.5592 - val_loss: 1.3812 - val_accuracy: 0.5175\n",
      "Epoch 44/100\n",
      "141/141 [==============================] - 64s 453ms/step - loss: 1.1651 - accuracy: 0.5686 - val_loss: 1.3400 - val_accuracy: 0.5355\n",
      "Epoch 45/100\n",
      "141/141 [==============================] - 64s 451ms/step - loss: 1.1728 - accuracy: 0.5795 - val_loss: 1.3595 - val_accuracy: 0.5235\n",
      "Epoch 46/100\n",
      "141/141 [==============================] - 64s 451ms/step - loss: 1.1371 - accuracy: 0.5863 - val_loss: 1.3446 - val_accuracy: 0.5345\n",
      "Epoch 47/100\n",
      "141/141 [==============================] - 64s 451ms/step - loss: 1.1356 - accuracy: 0.5835 - val_loss: 1.3732 - val_accuracy: 0.5205\n",
      "Epoch 48/100\n",
      "141/141 [==============================] - 65s 459ms/step - loss: 1.1104 - accuracy: 0.5903 - val_loss: 1.3427 - val_accuracy: 0.5295\n",
      "Epoch 49/100\n",
      "141/141 [==============================] - 66s 467ms/step - loss: 1.1138 - accuracy: 0.5919 - val_loss: 1.3671 - val_accuracy: 0.5405\n",
      "Epoch 50/100\n",
      "141/141 [==============================] - 65s 456ms/step - loss: 1.0944 - accuracy: 0.6039 - val_loss: 1.3725 - val_accuracy: 0.5235\n",
      "Epoch 51/100\n",
      "141/141 [==============================] - 64s 454ms/step - loss: 1.0884 - accuracy: 0.5933 - val_loss: 1.3692 - val_accuracy: 0.5335\n",
      "Epoch 52/100\n",
      "141/141 [==============================] - 64s 454ms/step - loss: 1.0757 - accuracy: 0.6107 - val_loss: 1.3684 - val_accuracy: 0.5345\n",
      "Epoch 53/100\n",
      "141/141 [==============================] - 64s 454ms/step - loss: 1.0456 - accuracy: 0.6207 - val_loss: 1.3696 - val_accuracy: 0.5355\n",
      "Epoch 54/100\n",
      "141/141 [==============================] - 64s 455ms/step - loss: 1.0467 - accuracy: 0.6190 - val_loss: 1.3820 - val_accuracy: 0.5445\n",
      "Epoch 55/100\n",
      "141/141 [==============================] - 64s 454ms/step - loss: 1.0279 - accuracy: 0.6273 - val_loss: 1.3750 - val_accuracy: 0.5375\n",
      "Epoch 56/100\n",
      "141/141 [==============================] - 64s 455ms/step - loss: 1.0143 - accuracy: 0.6335 - val_loss: 1.3606 - val_accuracy: 0.5455\n",
      "Epoch 57/100\n",
      "141/141 [==============================] - 64s 454ms/step - loss: 1.0041 - accuracy: 0.6337 - val_loss: 1.4283 - val_accuracy: 0.5315\n",
      "Epoch 58/100\n",
      "141/141 [==============================] - 64s 454ms/step - loss: 1.0076 - accuracy: 0.6290 - val_loss: 1.4107 - val_accuracy: 0.5295\n",
      "Epoch 59/100\n",
      "141/141 [==============================] - 64s 454ms/step - loss: 0.9745 - accuracy: 0.6508 - val_loss: 1.4055 - val_accuracy: 0.5325\n",
      "Epoch 60/100\n",
      "141/141 [==============================] - 64s 454ms/step - loss: 0.9942 - accuracy: 0.6350 - val_loss: 1.4372 - val_accuracy: 0.5305\n",
      "Epoch 61/100\n",
      "141/141 [==============================] - 64s 454ms/step - loss: 0.9561 - accuracy: 0.6544 - val_loss: 1.4016 - val_accuracy: 0.5415\n",
      "Epoch 62/100\n",
      "141/141 [==============================] - 64s 454ms/step - loss: 0.9609 - accuracy: 0.6460 - val_loss: 1.4082 - val_accuracy: 0.5405\n",
      "Epoch 63/100\n",
      "141/141 [==============================] - 65s 458ms/step - loss: 0.9340 - accuracy: 0.6598 - val_loss: 1.4315 - val_accuracy: 0.5405\n",
      "Epoch 64/100\n",
      "141/141 [==============================] - 64s 453ms/step - loss: 0.9260 - accuracy: 0.6638 - val_loss: 1.4194 - val_accuracy: 0.5375\n",
      "Epoch 65/100\n",
      "141/141 [==============================] - 64s 455ms/step - loss: 0.9160 - accuracy: 0.6649 - val_loss: 1.3993 - val_accuracy: 0.5475\n",
      "Epoch 66/100\n",
      "141/141 [==============================] - 64s 453ms/step - loss: 0.8969 - accuracy: 0.6740 - val_loss: 1.4184 - val_accuracy: 0.5305\n",
      "Epoch 67/100\n",
      "141/141 [==============================] - 64s 454ms/step - loss: 0.9030 - accuracy: 0.6739 - val_loss: 1.4376 - val_accuracy: 0.5305\n",
      "Epoch 68/100\n",
      "141/141 [==============================] - 64s 454ms/step - loss: 0.8955 - accuracy: 0.6746 - val_loss: 1.4289 - val_accuracy: 0.5135\n",
      "Epoch 69/100\n",
      "141/141 [==============================] - 64s 453ms/step - loss: 0.8734 - accuracy: 0.6810 - val_loss: 1.4652 - val_accuracy: 0.5265\n",
      "Epoch 70/100\n",
      "141/141 [==============================] - 64s 453ms/step - loss: 0.8870 - accuracy: 0.6859 - val_loss: 1.4436 - val_accuracy: 0.5385\n",
      "Epoch 71/100\n",
      "141/141 [==============================] - 64s 455ms/step - loss: 0.8538 - accuracy: 0.6946 - val_loss: 1.4450 - val_accuracy: 0.5495\n",
      "Epoch 72/100\n",
      "141/141 [==============================] - 64s 454ms/step - loss: 0.8543 - accuracy: 0.6908 - val_loss: 1.4930 - val_accuracy: 0.5475\n",
      "Epoch 73/100\n",
      "141/141 [==============================] - 64s 453ms/step - loss: 0.8361 - accuracy: 0.6940 - val_loss: 1.4723 - val_accuracy: 0.5325\n",
      "Epoch 74/100\n",
      "141/141 [==============================] - 64s 454ms/step - loss: 0.8335 - accuracy: 0.6987 - val_loss: 1.4795 - val_accuracy: 0.5445\n",
      "Epoch 75/100\n",
      "141/141 [==============================] - 64s 454ms/step - loss: 0.8170 - accuracy: 0.7063 - val_loss: 1.4634 - val_accuracy: 0.5365\n",
      "Epoch 76/100\n",
      "141/141 [==============================] - 64s 455ms/step - loss: 0.8022 - accuracy: 0.7114 - val_loss: 1.4852 - val_accuracy: 0.5516\n",
      "Epoch 77/100\n",
      "141/141 [==============================] - 64s 453ms/step - loss: 0.7783 - accuracy: 0.7144 - val_loss: 1.4823 - val_accuracy: 0.5435\n",
      "Epoch 78/100\n",
      "141/141 [==============================] - 64s 452ms/step - loss: 0.8232 - accuracy: 0.7118 - val_loss: 1.4646 - val_accuracy: 0.5405\n",
      "Epoch 79/100\n",
      "141/141 [==============================] - 64s 452ms/step - loss: 0.7565 - accuracy: 0.7263 - val_loss: 1.5218 - val_accuracy: 0.5305\n",
      "Epoch 80/100\n",
      "141/141 [==============================] - 64s 453ms/step - loss: 0.7717 - accuracy: 0.7256 - val_loss: 1.4825 - val_accuracy: 0.5315\n",
      "Epoch 81/100\n",
      "141/141 [==============================] - 64s 453ms/step - loss: 0.7633 - accuracy: 0.7308 - val_loss: 1.5026 - val_accuracy: 0.5355\n",
      "Epoch 82/100\n",
      "141/141 [==============================] - 64s 454ms/step - loss: 0.7661 - accuracy: 0.7285 - val_loss: 1.5560 - val_accuracy: 0.5425\n",
      "Epoch 83/100\n",
      "141/141 [==============================] - 64s 453ms/step - loss: 0.7452 - accuracy: 0.7351 - val_loss: 1.5750 - val_accuracy: 0.5435\n",
      "Epoch 84/100\n",
      "141/141 [==============================] - 64s 454ms/step - loss: 0.7673 - accuracy: 0.7293 - val_loss: 1.5129 - val_accuracy: 0.5495\n",
      "Epoch 85/100\n",
      "141/141 [==============================] - 64s 453ms/step - loss: 0.7176 - accuracy: 0.7446 - val_loss: 1.5511 - val_accuracy: 0.5425\n",
      "Epoch 86/100\n",
      "141/141 [==============================] - 64s 453ms/step - loss: 0.7314 - accuracy: 0.7325 - val_loss: 1.5774 - val_accuracy: 0.5375\n",
      "Epoch 87/100\n",
      "141/141 [==============================] - 64s 453ms/step - loss: 0.6969 - accuracy: 0.7529 - val_loss: 1.5530 - val_accuracy: 0.5375\n",
      "Epoch 88/100\n",
      "141/141 [==============================] - 64s 453ms/step - loss: 0.7113 - accuracy: 0.7485 - val_loss: 1.5890 - val_accuracy: 0.5435\n",
      "Epoch 89/100\n",
      "141/141 [==============================] - 64s 453ms/step - loss: 0.6725 - accuracy: 0.7573 - val_loss: 1.6087 - val_accuracy: 0.5405\n",
      "Epoch 90/100\n",
      "141/141 [==============================] - 64s 454ms/step - loss: 0.6832 - accuracy: 0.7621 - val_loss: 1.6147 - val_accuracy: 0.5135\n",
      "Epoch 91/100\n",
      "141/141 [==============================] - 64s 454ms/step - loss: 0.6773 - accuracy: 0.7634 - val_loss: 1.6217 - val_accuracy: 0.5435\n",
      "Epoch 92/100\n",
      "141/141 [==============================] - 64s 453ms/step - loss: 0.6723 - accuracy: 0.7590 - val_loss: 1.5985 - val_accuracy: 0.5455\n",
      "Epoch 93/100\n",
      "141/141 [==============================] - 64s 455ms/step - loss: 0.6792 - accuracy: 0.7644 - val_loss: 1.5985 - val_accuracy: 0.5576\n",
      "Epoch 94/100\n",
      "141/141 [==============================] - 64s 454ms/step - loss: 0.6703 - accuracy: 0.7624 - val_loss: 1.6388 - val_accuracy: 0.5375\n",
      "Epoch 95/100\n",
      "141/141 [==============================] - 64s 453ms/step - loss: 0.6494 - accuracy: 0.7752 - val_loss: 1.6243 - val_accuracy: 0.5445\n",
      "Epoch 96/100\n",
      "141/141 [==============================] - 64s 454ms/step - loss: 0.6506 - accuracy: 0.7695 - val_loss: 1.6991 - val_accuracy: 0.5405\n",
      "Epoch 97/100\n",
      "141/141 [==============================] - 64s 453ms/step - loss: 0.6682 - accuracy: 0.7633 - val_loss: 1.6209 - val_accuracy: 0.5395\n",
      "Epoch 98/100\n",
      "141/141 [==============================] - 64s 454ms/step - loss: 0.6361 - accuracy: 0.7761 - val_loss: 1.6643 - val_accuracy: 0.5315\n",
      "Epoch 99/100\n",
      "141/141 [==============================] - 65s 456ms/step - loss: 0.6413 - accuracy: 0.7777 - val_loss: 1.6841 - val_accuracy: 0.5455\n",
      "Epoch 100/100\n",
      "141/141 [==============================] - 64s 453ms/step - loss: 0.6583 - accuracy: 0.7727 - val_loss: 1.6981 - val_accuracy: 0.5465\n"
     ]
    }
   ],
   "source": [
    "es = EarlyStopping(\n",
    "    monitor='val_accuracy', restore_best_weights=True, patience=20, min_delta = 0.001\n",
    ")\n",
    "lrr = ReduceLROnPlateau(monitor='val_accuracy', \n",
    "                        patience=3, \n",
    "                        verbose=1, \n",
    "                        factor=0.5,\n",
    "                        min_lr=0.00001)\n",
    "history = new_model.fit(datagen.flow_from_dataframe(\n",
    "    X_train,\n",
    "    x_col=\"path\",\n",
    "    y_col=\"class\",\n",
    "    batch_size=64, \n",
    "    directory = './prep'\n",
    "),\n",
    "              validation_data=datagen.flow_from_dataframe(\n",
    "            X_test,\n",
    "            x_col=\"path\",\n",
    "            y_col=\"class\",\n",
    "            batch_size=100, \n",
    "            directory = './prep'),\n",
    "              epochs=100,\n",
    "              callbacks=[es])"
   ]
  },
  {
   "cell_type": "code",
   "execution_count": 15,
   "metadata": {
    "tags": []
   },
   "outputs": [
    {
     "data": {
      "text/plain": [
       "Text(0, 0.5, 'Accuracy')"
      ]
     },
     "execution_count": 15,
     "metadata": {},
     "output_type": "execute_result"
    },
    {
     "data": {
      "image/png": "[encoded data removed]",
      "text/plain": [
       "<Figure size 1200x600 with 2 Axes>"
      ]
     },
     "metadata": {},
     "output_type": "display_data"
    }
   ],
   "source": [
    "fig, (ax1, ax2) = plt.subplots(2,1, figsize=(12,6))\n",
    "ax2.plot(history.history['loss'], color='orange', label='Loss')\n",
    "ax2.plot(history.history['val_loss'], color='blue', label='val_loss')\n",
    "ax2.legend(loc='upper right')\n",
    "ax1.plot(history.history['accuracy'], label='Accuracy', color='orange')\n",
    "ax1.plot(history.history['val_accuracy'], label='val_accuracy', color='blue')\n",
    "ax1.legend(loc=\"upper right\")\n",
    "ax1.set_title(\"Model-Accuracy w.r.t Epochs\", loc='center')\n",
    "plt.xlabel(\"Epochs\")\n",
    "plt.ylabel(\"Loss\")\n",
    "ax1.set_xlabel(\"Epoch\")\n",
    "ax1.set_ylabel(\"Accuracy\")"
   ]
  }
 ],
 "metadata": {
  "kernelspec": {
   "display_name": "Python 3.10.8 64-bit (microsoft store)",
   "language": "python",
   "name": "python3"
  },
  "language_info": {
   "codemirror_mode": {
    "name": "ipython",
    "version": 3
   },
   "file_extension": ".py",
   "mimetype": "text/x-python",
   "name": "python",
   "nbconvert_exporter": "python",
   "pygments_lexer": "ipython3",
   "version": "3.10.8"
  },
  "vscode": {
   "interpreter": {
    "hash": "55fa29ce3401f4ee7cb39a37c096b57b35d4f7e3f09717c6723a59ba6e891320"
   }
  }
 },
 "nbformat": 4,
 "nbformat_minor": 4
}
