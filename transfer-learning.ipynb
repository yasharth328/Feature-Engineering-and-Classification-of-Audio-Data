{
 "cells": [
  {
   "cell_type": "code",
   "execution_count": 1,
   "id": "returning-master",
   "metadata": {
    "_cell_guid": "b1076dfc-b9ad-4769-8c92-a6c4dae69d19",
    "_uuid": "8f2839f25d086af736a60e9eeb907d3b93b6e0e5",
    "papermill": {
     "duration": 0.03294,
     "end_time": "2021-05-31T06:34:29.554254",
     "exception": false,
     "start_time": "2021-05-31T06:34:29.521314",
     "status": "completed"
    },
    "tags": []
   },
   "outputs": [],
   "source": [
    "import numpy as np # linear algebra\n",
    "import pandas as pd # data processing, CSV file I/O (e.g. pd.read_csv)\n",
    "import os"
   ]
  },
  {
   "cell_type": "code",
   "execution_count": 2,
   "id": "charming-kingdom",
   "metadata": {
    "papermill": {
     "duration": 0.066447,
     "end_time": "2021-05-31T06:34:29.676478",
     "exception": false,
     "start_time": "2021-05-31T06:34:29.610031",
     "status": "completed"
    },
    "tags": []
   },
   "outputs": [],
   "source": [
    "data = pd.read_csv('./GTZEN/features_30_sec.csv')"
   ]
  },
  {
   "cell_type": "code",
   "execution_count": 3,
   "id": "industrial-monaco",
   "metadata": {
    "papermill": {
     "duration": 0.024725,
     "end_time": "2021-05-31T06:34:29.719792",
     "exception": false,
     "start_time": "2021-05-31T06:34:29.695067",
     "status": "completed"
    },
    "tags": []
   },
   "outputs": [],
   "source": [
    "def get_image_path(x):\n",
    "    splited = x.split('.')\n",
    "    folder = './GTZEN/images_original/'+splited[0] + '/'\n",
    "    filename = splited[0]+splited[1]+'.png'\n",
    "    return folder+filename"
   ]
  },
  {
   "cell_type": "code",
   "execution_count": 4,
   "id": "ceramic-aluminum",
   "metadata": {
    "papermill": {
     "duration": 0.065075,
     "end_time": "2021-05-31T06:34:29.803416",
     "exception": false,
     "start_time": "2021-05-31T06:34:29.738341",
     "status": "completed"
    },
    "tags": []
   },
   "outputs": [
    {
     "data": {
      "text/html": [
       "<div>\n",
       "<style scoped>\n",
       "    .dataframe tbody tr th:only-of-type {\n",
       "        vertical-align: middle;\n",
       "    }\n",
       "\n",
       "    .dataframe tbody tr th {\n",
       "        vertical-align: top;\n",
       "    }\n",
       "\n",
       "    .dataframe thead th {\n",
       "        text-align: right;\n",
       "    }\n",
       "</style>\n",
       "<table border=\"1\" class=\"dataframe\">\n",
       "  <thead>\n",
       "    <tr style=\"text-align: right;\">\n",
       "      <th></th>\n",
       "      <th>filename</th>\n",
       "      <th>length</th>\n",
       "      <th>chroma_stft_mean</th>\n",
       "      <th>chroma_stft_var</th>\n",
       "      <th>rms_mean</th>\n",
       "      <th>rms_var</th>\n",
       "      <th>spectral_centroid_mean</th>\n",
       "      <th>spectral_centroid_var</th>\n",
       "      <th>spectral_bandwidth_mean</th>\n",
       "      <th>spectral_bandwidth_var</th>\n",
       "      <th>...</th>\n",
       "      <th>mfcc17_mean</th>\n",
       "      <th>mfcc17_var</th>\n",
       "      <th>mfcc18_mean</th>\n",
       "      <th>mfcc18_var</th>\n",
       "      <th>mfcc19_mean</th>\n",
       "      <th>mfcc19_var</th>\n",
       "      <th>mfcc20_mean</th>\n",
       "      <th>mfcc20_var</th>\n",
       "      <th>label</th>\n",
       "      <th>path</th>\n",
       "    </tr>\n",
       "  </thead>\n",
       "  <tbody>\n",
       "    <tr>\n",
       "      <th>0</th>\n",
       "      <td>blues.00000.wav</td>\n",
       "      <td>661794</td>\n",
       "      <td>0.350088</td>\n",
       "      <td>0.088757</td>\n",
       "      <td>0.130228</td>\n",
       "      <td>0.002827</td>\n",
       "      <td>1784.165850</td>\n",
       "      <td>129774.064525</td>\n",
       "      <td>2002.449060</td>\n",
       "      <td>85882.761315</td>\n",
       "      <td>...</td>\n",
       "      <td>-1.690215</td>\n",
       "      <td>36.524071</td>\n",
       "      <td>-0.408979</td>\n",
       "      <td>41.597103</td>\n",
       "      <td>-2.303523</td>\n",
       "      <td>55.062923</td>\n",
       "      <td>1.221291</td>\n",
       "      <td>46.936035</td>\n",
       "      <td>blues</td>\n",
       "      <td>./GTZEN/images_original/blues/blues00000.png</td>\n",
       "    </tr>\n",
       "    <tr>\n",
       "      <th>1</th>\n",
       "      <td>blues.00001.wav</td>\n",
       "      <td>661794</td>\n",
       "      <td>0.340914</td>\n",
       "      <td>0.094980</td>\n",
       "      <td>0.095948</td>\n",
       "      <td>0.002373</td>\n",
       "      <td>1530.176679</td>\n",
       "      <td>375850.073649</td>\n",
       "      <td>2039.036516</td>\n",
       "      <td>213843.755497</td>\n",
       "      <td>...</td>\n",
       "      <td>-0.731125</td>\n",
       "      <td>60.314529</td>\n",
       "      <td>0.295073</td>\n",
       "      <td>48.120598</td>\n",
       "      <td>-0.283518</td>\n",
       "      <td>51.106190</td>\n",
       "      <td>0.531217</td>\n",
       "      <td>45.786282</td>\n",
       "      <td>blues</td>\n",
       "      <td>./GTZEN/images_original/blues/blues00001.png</td>\n",
       "    </tr>\n",
       "    <tr>\n",
       "      <th>2</th>\n",
       "      <td>blues.00002.wav</td>\n",
       "      <td>661794</td>\n",
       "      <td>0.363637</td>\n",
       "      <td>0.085275</td>\n",
       "      <td>0.175570</td>\n",
       "      <td>0.002746</td>\n",
       "      <td>1552.811865</td>\n",
       "      <td>156467.643368</td>\n",
       "      <td>1747.702312</td>\n",
       "      <td>76254.192257</td>\n",
       "      <td>...</td>\n",
       "      <td>-7.729093</td>\n",
       "      <td>47.639427</td>\n",
       "      <td>-1.816407</td>\n",
       "      <td>52.382141</td>\n",
       "      <td>-3.439720</td>\n",
       "      <td>46.639660</td>\n",
       "      <td>-2.231258</td>\n",
       "      <td>30.573025</td>\n",
       "      <td>blues</td>\n",
       "      <td>./GTZEN/images_original/blues/blues00002.png</td>\n",
       "    </tr>\n",
       "    <tr>\n",
       "      <th>3</th>\n",
       "      <td>blues.00003.wav</td>\n",
       "      <td>661794</td>\n",
       "      <td>0.404785</td>\n",
       "      <td>0.093999</td>\n",
       "      <td>0.141093</td>\n",
       "      <td>0.006346</td>\n",
       "      <td>1070.106615</td>\n",
       "      <td>184355.942417</td>\n",
       "      <td>1596.412872</td>\n",
       "      <td>166441.494769</td>\n",
       "      <td>...</td>\n",
       "      <td>-3.319597</td>\n",
       "      <td>50.206673</td>\n",
       "      <td>0.636965</td>\n",
       "      <td>37.319130</td>\n",
       "      <td>-0.619121</td>\n",
       "      <td>37.259739</td>\n",
       "      <td>-3.407448</td>\n",
       "      <td>31.949339</td>\n",
       "      <td>blues</td>\n",
       "      <td>./GTZEN/images_original/blues/blues00003.png</td>\n",
       "    </tr>\n",
       "    <tr>\n",
       "      <th>4</th>\n",
       "      <td>blues.00004.wav</td>\n",
       "      <td>661794</td>\n",
       "      <td>0.308526</td>\n",
       "      <td>0.087841</td>\n",
       "      <td>0.091529</td>\n",
       "      <td>0.002303</td>\n",
       "      <td>1835.004266</td>\n",
       "      <td>343399.939274</td>\n",
       "      <td>1748.172116</td>\n",
       "      <td>88445.209036</td>\n",
       "      <td>...</td>\n",
       "      <td>-5.454034</td>\n",
       "      <td>75.269707</td>\n",
       "      <td>-0.916874</td>\n",
       "      <td>53.613918</td>\n",
       "      <td>-4.404827</td>\n",
       "      <td>62.910812</td>\n",
       "      <td>-11.703234</td>\n",
       "      <td>55.195160</td>\n",
       "      <td>blues</td>\n",
       "      <td>./GTZEN/images_original/blues/blues00004.png</td>\n",
       "    </tr>\n",
       "    <tr>\n",
       "      <th>...</th>\n",
       "      <td>...</td>\n",
       "      <td>...</td>\n",
       "      <td>...</td>\n",
       "      <td>...</td>\n",
       "      <td>...</td>\n",
       "      <td>...</td>\n",
       "      <td>...</td>\n",
       "      <td>...</td>\n",
       "      <td>...</td>\n",
       "      <td>...</td>\n",
       "      <td>...</td>\n",
       "      <td>...</td>\n",
       "      <td>...</td>\n",
       "      <td>...</td>\n",
       "      <td>...</td>\n",
       "      <td>...</td>\n",
       "      <td>...</td>\n",
       "      <td>...</td>\n",
       "      <td>...</td>\n",
       "      <td>...</td>\n",
       "      <td>...</td>\n",
       "    </tr>\n",
       "    <tr>\n",
       "      <th>995</th>\n",
       "      <td>rock.00095.wav</td>\n",
       "      <td>661794</td>\n",
       "      <td>0.352063</td>\n",
       "      <td>0.080487</td>\n",
       "      <td>0.079486</td>\n",
       "      <td>0.000345</td>\n",
       "      <td>2008.149458</td>\n",
       "      <td>282174.689224</td>\n",
       "      <td>2106.541053</td>\n",
       "      <td>88609.749506</td>\n",
       "      <td>...</td>\n",
       "      <td>-13.289984</td>\n",
       "      <td>41.754955</td>\n",
       "      <td>2.484145</td>\n",
       "      <td>36.778877</td>\n",
       "      <td>-6.713265</td>\n",
       "      <td>54.866825</td>\n",
       "      <td>-1.193787</td>\n",
       "      <td>49.950665</td>\n",
       "      <td>rock</td>\n",
       "      <td>./GTZEN/images_original/rock/rock00095.png</td>\n",
       "    </tr>\n",
       "    <tr>\n",
       "      <th>996</th>\n",
       "      <td>rock.00096.wav</td>\n",
       "      <td>661794</td>\n",
       "      <td>0.398687</td>\n",
       "      <td>0.075086</td>\n",
       "      <td>0.076458</td>\n",
       "      <td>0.000588</td>\n",
       "      <td>2006.843354</td>\n",
       "      <td>182114.709510</td>\n",
       "      <td>2068.942009</td>\n",
       "      <td>82426.016726</td>\n",
       "      <td>...</td>\n",
       "      <td>-10.848309</td>\n",
       "      <td>39.395096</td>\n",
       "      <td>1.881229</td>\n",
       "      <td>32.010040</td>\n",
       "      <td>-7.461491</td>\n",
       "      <td>39.196327</td>\n",
       "      <td>-2.795338</td>\n",
       "      <td>31.773624</td>\n",
       "      <td>rock</td>\n",
       "      <td>./GTZEN/images_original/rock/rock00096.png</td>\n",
       "    </tr>\n",
       "    <tr>\n",
       "      <th>997</th>\n",
       "      <td>rock.00097.wav</td>\n",
       "      <td>661794</td>\n",
       "      <td>0.432142</td>\n",
       "      <td>0.075268</td>\n",
       "      <td>0.081651</td>\n",
       "      <td>0.000322</td>\n",
       "      <td>2077.526598</td>\n",
       "      <td>231657.968040</td>\n",
       "      <td>1927.293153</td>\n",
       "      <td>74717.124394</td>\n",
       "      <td>...</td>\n",
       "      <td>-12.845291</td>\n",
       "      <td>36.367264</td>\n",
       "      <td>3.440978</td>\n",
       "      <td>36.001110</td>\n",
       "      <td>-12.588070</td>\n",
       "      <td>42.502201</td>\n",
       "      <td>-2.106337</td>\n",
       "      <td>29.865515</td>\n",
       "      <td>rock</td>\n",
       "      <td>./GTZEN/images_original/rock/rock00097.png</td>\n",
       "    </tr>\n",
       "    <tr>\n",
       "      <th>998</th>\n",
       "      <td>rock.00098.wav</td>\n",
       "      <td>661794</td>\n",
       "      <td>0.362485</td>\n",
       "      <td>0.091506</td>\n",
       "      <td>0.083860</td>\n",
       "      <td>0.001211</td>\n",
       "      <td>1398.699344</td>\n",
       "      <td>240318.731073</td>\n",
       "      <td>1818.450280</td>\n",
       "      <td>109090.207161</td>\n",
       "      <td>...</td>\n",
       "      <td>-4.416050</td>\n",
       "      <td>43.583942</td>\n",
       "      <td>1.556207</td>\n",
       "      <td>34.331261</td>\n",
       "      <td>-5.041897</td>\n",
       "      <td>47.227180</td>\n",
       "      <td>-3.590644</td>\n",
       "      <td>41.299088</td>\n",
       "      <td>rock</td>\n",
       "      <td>./GTZEN/images_original/rock/rock00098.png</td>\n",
       "    </tr>\n",
       "    <tr>\n",
       "      <th>999</th>\n",
       "      <td>rock.00099.wav</td>\n",
       "      <td>661794</td>\n",
       "      <td>0.358401</td>\n",
       "      <td>0.085884</td>\n",
       "      <td>0.054454</td>\n",
       "      <td>0.000336</td>\n",
       "      <td>1609.795082</td>\n",
       "      <td>422203.216152</td>\n",
       "      <td>1797.213044</td>\n",
       "      <td>120115.632927</td>\n",
       "      <td>...</td>\n",
       "      <td>-7.069775</td>\n",
       "      <td>73.760391</td>\n",
       "      <td>0.028346</td>\n",
       "      <td>76.504326</td>\n",
       "      <td>-2.025783</td>\n",
       "      <td>72.189316</td>\n",
       "      <td>1.155239</td>\n",
       "      <td>49.662510</td>\n",
       "      <td>rock</td>\n",
       "      <td>./GTZEN/images_original/rock/rock00099.png</td>\n",
       "    </tr>\n",
       "  </tbody>\n",
       "</table>\n",
       "<p>1000 rows × 61 columns</p>\n",
       "</div>"
      ],
      "text/plain": [
       "            filename  length  chroma_stft_mean  chroma_stft_var  rms_mean  \\\n",
       "0    blues.00000.wav  661794          0.350088         0.088757  0.130228   \n",
       "1    blues.00001.wav  661794          0.340914         0.094980  0.095948   \n",
       "2    blues.00002.wav  661794          0.363637         0.085275  0.175570   \n",
       "3    blues.00003.wav  661794          0.404785         0.093999  0.141093   \n",
       "4    blues.00004.wav  661794          0.308526         0.087841  0.091529   \n",
       "..               ...     ...               ...              ...       ...   \n",
       "995   rock.00095.wav  661794          0.352063         0.080487  0.079486   \n",
       "996   rock.00096.wav  661794          0.398687         0.075086  0.076458   \n",
       "997   rock.00097.wav  661794          0.432142         0.075268  0.081651   \n",
       "998   rock.00098.wav  661794          0.362485         0.091506  0.083860   \n",
       "999   rock.00099.wav  661794          0.358401         0.085884  0.054454   \n",
       "\n",
       "      rms_var  spectral_centroid_mean  spectral_centroid_var  \\\n",
       "0    0.002827             1784.165850          129774.064525   \n",
       "1    0.002373             1530.176679          375850.073649   \n",
       "2    0.002746             1552.811865          156467.643368   \n",
       "3    0.006346             1070.106615          184355.942417   \n",
       "4    0.002303             1835.004266          343399.939274   \n",
       "..        ...                     ...                    ...   \n",
       "995  0.000345             2008.149458          282174.689224   \n",
       "996  0.000588             2006.843354          182114.709510   \n",
       "997  0.000322             2077.526598          231657.968040   \n",
       "998  0.001211             1398.699344          240318.731073   \n",
       "999  0.000336             1609.795082          422203.216152   \n",
       "\n",
       "     spectral_bandwidth_mean  spectral_bandwidth_var  ...  mfcc17_mean  \\\n",
       "0                2002.449060            85882.761315  ...    -1.690215   \n",
       "1                2039.036516           213843.755497  ...    -0.731125   \n",
       "2                1747.702312            76254.192257  ...    -7.729093   \n",
       "3                1596.412872           166441.494769  ...    -3.319597   \n",
       "4                1748.172116            88445.209036  ...    -5.454034   \n",
       "..                       ...                     ...  ...          ...   \n",
       "995              2106.541053            88609.749506  ...   -13.289984   \n",
       "996              2068.942009            82426.016726  ...   -10.848309   \n",
       "997              1927.293153            74717.124394  ...   -12.845291   \n",
       "998              1818.450280           109090.207161  ...    -4.416050   \n",
       "999              1797.213044           120115.632927  ...    -7.069775   \n",
       "\n",
       "     mfcc17_var  mfcc18_mean  mfcc18_var  mfcc19_mean  mfcc19_var  \\\n",
       "0     36.524071    -0.408979   41.597103    -2.303523   55.062923   \n",
       "1     60.314529     0.295073   48.120598    -0.283518   51.106190   \n",
       "2     47.639427    -1.816407   52.382141    -3.439720   46.639660   \n",
       "3     50.206673     0.636965   37.319130    -0.619121   37.259739   \n",
       "4     75.269707    -0.916874   53.613918    -4.404827   62.910812   \n",
       "..          ...          ...         ...          ...         ...   \n",
       "995   41.754955     2.484145   36.778877    -6.713265   54.866825   \n",
       "996   39.395096     1.881229   32.010040    -7.461491   39.196327   \n",
       "997   36.367264     3.440978   36.001110   -12.588070   42.502201   \n",
       "998   43.583942     1.556207   34.331261    -5.041897   47.227180   \n",
       "999   73.760391     0.028346   76.504326    -2.025783   72.189316   \n",
       "\n",
       "     mfcc20_mean  mfcc20_var  label  \\\n",
       "0       1.221291   46.936035  blues   \n",
       "1       0.531217   45.786282  blues   \n",
       "2      -2.231258   30.573025  blues   \n",
       "3      -3.407448   31.949339  blues   \n",
       "4     -11.703234   55.195160  blues   \n",
       "..           ...         ...    ...   \n",
       "995    -1.193787   49.950665   rock   \n",
       "996    -2.795338   31.773624   rock   \n",
       "997    -2.106337   29.865515   rock   \n",
       "998    -3.590644   41.299088   rock   \n",
       "999     1.155239   49.662510   rock   \n",
       "\n",
       "                                             path  \n",
       "0    ./GTZEN/images_original/blues/blues00000.png  \n",
       "1    ./GTZEN/images_original/blues/blues00001.png  \n",
       "2    ./GTZEN/images_original/blues/blues00002.png  \n",
       "3    ./GTZEN/images_original/blues/blues00003.png  \n",
       "4    ./GTZEN/images_original/blues/blues00004.png  \n",
       "..                                            ...  \n",
       "995    ./GTZEN/images_original/rock/rock00095.png  \n",
       "996    ./GTZEN/images_original/rock/rock00096.png  \n",
       "997    ./GTZEN/images_original/rock/rock00097.png  \n",
       "998    ./GTZEN/images_original/rock/rock00098.png  \n",
       "999    ./GTZEN/images_original/rock/rock00099.png  \n",
       "\n",
       "[1000 rows x 61 columns]"
      ]
     },
     "execution_count": 4,
     "metadata": {},
     "output_type": "execute_result"
    }
   ],
   "source": [
    "data['path'] = data['filename'].apply(get_image_path)\n",
    "data"
   ]
  },
  {
   "cell_type": "code",
   "execution_count": 5,
   "id": "straight-dietary",
   "metadata": {
    "papermill": {
     "duration": 0.027152,
     "end_time": "2021-05-31T06:34:29.851973",
     "exception": false,
     "start_time": "2021-05-31T06:34:29.824821",
     "status": "completed"
    },
    "tags": []
   },
   "outputs": [],
   "source": [
    "data = data[['filename','path']]"
   ]
  },
  {
   "cell_type": "code",
   "execution_count": 6,
   "id": "north-gilbert",
   "metadata": {
    "papermill": {
     "duration": 0.036665,
     "end_time": "2021-05-31T06:34:29.907956",
     "exception": false,
     "start_time": "2021-05-31T06:34:29.871291",
     "status": "completed"
    },
    "tags": []
   },
   "outputs": [
    {
     "name": "stderr",
     "output_type": "stream",
     "text": [
      "C:\\Users\\Sumit\\AppData\\Local\\Temp\\ipykernel_19924\\4254043227.py:1: SettingWithCopyWarning: \n",
      "A value is trying to be set on a copy of a slice from a DataFrame.\n",
      "Try using .loc[row_indexer,col_indexer] = value instead\n",
      "\n",
      "See the caveats in the documentation: https://pandas.pydata.org/pandas-docs/stable/user_guide/indexing.html#returning-a-view-versus-a-copy\n",
      "  data['genre'] = data['filename'].apply(lambda x:x.split('.')[0])\n"
     ]
    },
    {
     "data": {
      "text/html": [
       "<div>\n",
       "<style scoped>\n",
       "    .dataframe tbody tr th:only-of-type {\n",
       "        vertical-align: middle;\n",
       "    }\n",
       "\n",
       "    .dataframe tbody tr th {\n",
       "        vertical-align: top;\n",
       "    }\n",
       "\n",
       "    .dataframe thead th {\n",
       "        text-align: right;\n",
       "    }\n",
       "</style>\n",
       "<table border=\"1\" class=\"dataframe\">\n",
       "  <thead>\n",
       "    <tr style=\"text-align: right;\">\n",
       "      <th></th>\n",
       "      <th>filename</th>\n",
       "      <th>path</th>\n",
       "      <th>genre</th>\n",
       "    </tr>\n",
       "  </thead>\n",
       "  <tbody>\n",
       "    <tr>\n",
       "      <th>0</th>\n",
       "      <td>blues.00000.wav</td>\n",
       "      <td>./GTZEN/images_original/blues/blues00000.png</td>\n",
       "      <td>blues</td>\n",
       "    </tr>\n",
       "    <tr>\n",
       "      <th>1</th>\n",
       "      <td>blues.00001.wav</td>\n",
       "      <td>./GTZEN/images_original/blues/blues00001.png</td>\n",
       "      <td>blues</td>\n",
       "    </tr>\n",
       "    <tr>\n",
       "      <th>2</th>\n",
       "      <td>blues.00002.wav</td>\n",
       "      <td>./GTZEN/images_original/blues/blues00002.png</td>\n",
       "      <td>blues</td>\n",
       "    </tr>\n",
       "    <tr>\n",
       "      <th>3</th>\n",
       "      <td>blues.00003.wav</td>\n",
       "      <td>./GTZEN/images_original/blues/blues00003.png</td>\n",
       "      <td>blues</td>\n",
       "    </tr>\n",
       "    <tr>\n",
       "      <th>4</th>\n",
       "      <td>blues.00004.wav</td>\n",
       "      <td>./GTZEN/images_original/blues/blues00004.png</td>\n",
       "      <td>blues</td>\n",
       "    </tr>\n",
       "    <tr>\n",
       "      <th>...</th>\n",
       "      <td>...</td>\n",
       "      <td>...</td>\n",
       "      <td>...</td>\n",
       "    </tr>\n",
       "    <tr>\n",
       "      <th>995</th>\n",
       "      <td>rock.00095.wav</td>\n",
       "      <td>./GTZEN/images_original/rock/rock00095.png</td>\n",
       "      <td>rock</td>\n",
       "    </tr>\n",
       "    <tr>\n",
       "      <th>996</th>\n",
       "      <td>rock.00096.wav</td>\n",
       "      <td>./GTZEN/images_original/rock/rock00096.png</td>\n",
       "      <td>rock</td>\n",
       "    </tr>\n",
       "    <tr>\n",
       "      <th>997</th>\n",
       "      <td>rock.00097.wav</td>\n",
       "      <td>./GTZEN/images_original/rock/rock00097.png</td>\n",
       "      <td>rock</td>\n",
       "    </tr>\n",
       "    <tr>\n",
       "      <th>998</th>\n",
       "      <td>rock.00098.wav</td>\n",
       "      <td>./GTZEN/images_original/rock/rock00098.png</td>\n",
       "      <td>rock</td>\n",
       "    </tr>\n",
       "    <tr>\n",
       "      <th>999</th>\n",
       "      <td>rock.00099.wav</td>\n",
       "      <td>./GTZEN/images_original/rock/rock00099.png</td>\n",
       "      <td>rock</td>\n",
       "    </tr>\n",
       "  </tbody>\n",
       "</table>\n",
       "<p>1000 rows × 3 columns</p>\n",
       "</div>"
      ],
      "text/plain": [
       "            filename                                          path  genre\n",
       "0    blues.00000.wav  ./GTZEN/images_original/blues/blues00000.png  blues\n",
       "1    blues.00001.wav  ./GTZEN/images_original/blues/blues00001.png  blues\n",
       "2    blues.00002.wav  ./GTZEN/images_original/blues/blues00002.png  blues\n",
       "3    blues.00003.wav  ./GTZEN/images_original/blues/blues00003.png  blues\n",
       "4    blues.00004.wav  ./GTZEN/images_original/blues/blues00004.png  blues\n",
       "..               ...                                           ...    ...\n",
       "995   rock.00095.wav    ./GTZEN/images_original/rock/rock00095.png   rock\n",
       "996   rock.00096.wav    ./GTZEN/images_original/rock/rock00096.png   rock\n",
       "997   rock.00097.wav    ./GTZEN/images_original/rock/rock00097.png   rock\n",
       "998   rock.00098.wav    ./GTZEN/images_original/rock/rock00098.png   rock\n",
       "999   rock.00099.wav    ./GTZEN/images_original/rock/rock00099.png   rock\n",
       "\n",
       "[1000 rows x 3 columns]"
      ]
     },
     "execution_count": 6,
     "metadata": {},
     "output_type": "execute_result"
    }
   ],
   "source": [
    "data['genre'] = data['filename'].apply(lambda x:x.split('.')[0])\n",
    "data"
   ]
  },
  {
   "cell_type": "code",
   "execution_count": 7,
   "id": "interim-electronics",
   "metadata": {
    "papermill": {
     "duration": 0.817382,
     "end_time": "2021-05-31T06:34:30.745208",
     "exception": false,
     "start_time": "2021-05-31T06:34:29.927826",
     "status": "completed"
    },
    "tags": []
   },
   "outputs": [],
   "source": [
    "from sklearn.model_selection import train_test_split\n",
    "X_train, X_test = train_test_split(data,  test_size=0.2, random_state=15)"
   ]
  },
  {
   "cell_type": "code",
   "execution_count": 8,
   "id": "backed-disorder",
   "metadata": {
    "papermill": {
     "duration": 0.028565,
     "end_time": "2021-05-31T06:34:30.794062",
     "exception": false,
     "start_time": "2021-05-31T06:34:30.765497",
     "status": "completed"
    },
    "tags": []
   },
   "outputs": [
    {
     "data": {
      "text/plain": [
       "(10, 10)"
      ]
     },
     "execution_count": 8,
     "metadata": {},
     "output_type": "execute_result"
    }
   ],
   "source": [
    "len(X_train.genre.unique()),len(X_test.genre.unique())"
   ]
  },
  {
   "cell_type": "code",
   "execution_count": 9,
   "id": "thermal-render",
   "metadata": {
    "papermill": {
     "duration": 0.208526,
     "end_time": "2021-05-31T06:34:31.022872",
     "exception": false,
     "start_time": "2021-05-31T06:34:30.814346",
     "status": "completed"
    },
    "tags": []
   },
   "outputs": [
    {
     "data": {
      "text/plain": [
       "<AxesSubplot:>"
      ]
     },
     "execution_count": 9,
     "metadata": {},
     "output_type": "execute_result"
    },
    {
     "data": {
      "image/png": "[encoded data removed]",
      "text/plain": [
       "<Figure size 640x480 with 1 Axes>"
      ]
     },
     "metadata": {},
     "output_type": "display_data"
    }
   ],
   "source": [
    "X_train.genre.hist()"
   ]
  },
  {
   "cell_type": "code",
   "execution_count": 10,
   "id": "moral-engagement",
   "metadata": {
    "papermill": {
     "duration": 0.169104,
     "end_time": "2021-05-31T06:34:31.213042",
     "exception": false,
     "start_time": "2021-05-31T06:34:31.043938",
     "status": "completed"
    },
    "tags": []
   },
   "outputs": [
    {
     "data": {
      "text/plain": [
       "<AxesSubplot:>"
      ]
     },
     "execution_count": 10,
     "metadata": {},
     "output_type": "execute_result"
    },
    {
     "data": {
      "image/png": "[encoded data removed]",
      "text/plain": [
       "<Figure size 640x480 with 1 Axes>"
      ]
     },
     "metadata": {},
     "output_type": "display_data"
    }
   ],
   "source": [
    "X_test.genre.hist()"
   ]
  },
  {
   "cell_type": "code",
   "execution_count": 11,
   "id": "known-contrary",
   "metadata": {
    "papermill": {
     "duration": 4.616859,
     "end_time": "2021-05-31T06:34:35.851990",
     "exception": false,
     "start_time": "2021-05-31T06:34:31.235131",
     "status": "completed"
    },
    "tags": []
   },
   "outputs": [],
   "source": [
    "from tensorflow.keras.preprocessing.image import ImageDataGenerator\n",
    "datagen = ImageDataGenerator()"
   ]
  },
  {
   "cell_type": "code",
   "execution_count": 12,
   "id": "emotional-berkeley",
   "metadata": {
    "papermill": {
     "duration": 2.492067,
     "end_time": "2021-05-31T06:34:38.366760",
     "exception": false,
     "start_time": "2021-05-31T06:34:35.874693",
     "status": "completed"
    },
    "tags": []
   },
   "outputs": [
    {
     "name": "stdout",
     "output_type": "stream",
     "text": [
      "Found 999 validated image filenames belonging to 10 classes.\n"
     ]
    },
    {
     "name": "stderr",
     "output_type": "stream",
     "text": [
      "C:\\Users\\Sumit\\miniconda3\\envs\\tf-cuda\\lib\\site-packages\\keras\\preprocessing\\image.py:1139: UserWarning: Found 1 invalid image filename(s) in x_col=\"path\". These filename(s) will be ignored.\n",
      "  warnings.warn(\n"
     ]
    }
   ],
   "source": [
    "it = datagen.flow_from_dataframe(\n",
    "    data,\n",
    "    x_col=\"path\",\n",
    "    y_col=\"genre\",batch_size=1)"
   ]
  },
  {
   "cell_type": "code",
   "execution_count": 13,
   "id": "applied-cincinnati",
   "metadata": {
    "papermill": {
     "duration": 0.167894,
     "end_time": "2021-05-31T06:34:38.557697",
     "exception": false,
     "start_time": "2021-05-31T06:34:38.389803",
     "status": "completed"
    },
    "tags": []
   },
   "outputs": [
    {
     "name": "stderr",
     "output_type": "stream",
     "text": [
      "Clipping input data to the valid range for imshow with RGB data ([0..1] for floats or [0..255] for integers).\n"
     ]
    },
    {
     "data": {
      "text/plain": [
       "<matplotlib.image.AxesImage at 0x284af35f6d0>"
      ]
     },
     "execution_count": 13,
     "metadata": {},
     "output_type": "execute_result"
    },
    {
     "data": {
      "image/png": "[encoded data removed]",
      "text/plain": [
       "<Figure size 640x480 with 1 Axes>"
      ]
     },
     "metadata": {},
     "output_type": "display_data"
    }
   ],
   "source": [
    "import matplotlib.pyplot as plt\n",
    "plt.imshow(next(it)[0][0])"
   ]
  },
  {
   "cell_type": "code",
   "execution_count": 14,
   "id": "prostate-motion",
   "metadata": {
    "papermill": {
     "duration": 0.041431,
     "end_time": "2021-05-31T06:34:38.623285",
     "exception": false,
     "start_time": "2021-05-31T06:34:38.581854",
     "status": "completed"
    },
    "tags": []
   },
   "outputs": [
    {
     "data": {
      "text/plain": [
       "(256, 256, 3)"
      ]
     },
     "execution_count": 14,
     "metadata": {},
     "output_type": "execute_result"
    }
   ],
   "source": [
    "next(it)[0][0].shape"
   ]
  },
  {
   "cell_type": "code",
   "execution_count": 15,
   "id": "studied-still",
   "metadata": {
    "papermill": {
     "duration": 3.942835,
     "end_time": "2021-05-31T06:34:42.590292",
     "exception": false,
     "start_time": "2021-05-31T06:34:38.647457",
     "status": "completed"
    },
    "tags": []
   },
   "outputs": [],
   "source": [
    "from tensorflow.keras.applications import ResNet50\n",
    "from tensorflow.keras.models import Sequential\n",
    "from tensorflow.keras.layers import Flatten,Dense,Input\n",
    "inp = Input(shape = next(it)[0][0].shape)\n",
    "\n",
    "model = ResNet50(\n",
    "    include_top=False,\n",
    "    weights=\"imagenet\",\n",
    "    classes=10,\n",
    "    input_tensor = inp\n",
    ")"
   ]
  },
  {
   "cell_type": "code",
   "execution_count": 16,
   "id": "thousand-muslim",
   "metadata": {
    "papermill": {
     "duration": 0.038863,
     "end_time": "2021-05-31T06:34:42.711518",
     "exception": false,
     "start_time": "2021-05-31T06:34:42.672655",
     "status": "completed"
    },
    "tags": []
   },
   "outputs": [],
   "source": [
    "for layer in model.layers:\n",
    "    layer.trainable=False"
   ]
  },
  {
   "cell_type": "code",
   "execution_count": 17,
   "id": "flush-spring",
   "metadata": {
    "papermill": {
     "duration": 0.036285,
     "end_time": "2021-05-31T06:34:42.829471",
     "exception": false,
     "start_time": "2021-05-31T06:34:42.793186",
     "status": "completed"
    },
    "tags": []
   },
   "outputs": [
    {
     "data": {
      "text/plain": [
       "TensorShape([None, 256, 256, 3])"
      ]
     },
     "execution_count": 17,
     "metadata": {},
     "output_type": "execute_result"
    }
   ],
   "source": [
    "model.input.shape"
   ]
  },
  {
   "cell_type": "code",
   "execution_count": 18,
   "id": "golden-athletics",
   "metadata": {
    "papermill": {
     "duration": 0.548762,
     "end_time": "2021-05-31T06:34:43.407570",
     "exception": false,
     "start_time": "2021-05-31T06:34:42.858808",
     "status": "completed"
    },
    "tags": []
   },
   "outputs": [],
   "source": [
    "from tensorflow.keras.layers import BatchNormalization,Dropout,Conv2D\n",
    "new_model = Sequential()\n",
    "new_model.add(model)\n",
    "new_model.add(Flatten())\n",
    "new_model.add(BatchNormalization())\n",
    "new_model.add(Dense(128, activation='relu'))\n",
    "new_model.add(Dropout(0.5))\n",
    "new_model.add(BatchNormalization())\n",
    "new_model.add(Dense(64, activation='relu'))\n",
    "new_model.add(Dropout(0.5))\n",
    "new_model.add(Dense(10, activation='softmax'))"
   ]
  },
  {
   "cell_type": "code",
   "execution_count": 19,
   "id": "responsible-upper",
   "metadata": {
    "papermill": {
     "duration": 0.080823,
     "end_time": "2021-05-31T06:34:43.538598",
     "exception": false,
     "start_time": "2021-05-31T06:34:43.457775",
     "status": "completed"
    },
    "tags": []
   },
   "outputs": [
    {
     "name": "stdout",
     "output_type": "stream",
     "text": [
      "Model: \"sequential\"\n",
      "_________________________________________________________________\n",
      " Layer (type)                Output Shape              Param #   \n",
      "=================================================================\n",
      " resnet50 (Functional)       (None, 8, 8, 2048)        23587712  \n",
      "                                                                 \n",
      " flatten (Flatten)           (None, 131072)            0         \n",
      "                                                                 \n",
      " batch_normalization (BatchN  (None, 131072)           524288    \n",
      " ormalization)                                                   \n",
      "                                                                 \n",
      " dense (Dense)               (None, 128)               16777344  \n",
      "                                                                 \n",
      " dropout (Dropout)           (None, 128)               0         \n",
      "                                                                 \n",
      " batch_normalization_1 (Batc  (None, 128)              512       \n",
      " hNormalization)                                                 \n",
      "                                                                 \n",
      " dense_1 (Dense)             (None, 64)                8256      \n",
      "                                                                 \n",
      " dropout_1 (Dropout)         (None, 64)                0         \n",
      "                                                                 \n",
      " dense_2 (Dense)             (None, 10)                650       \n",
      "                                                                 \n",
      "=================================================================\n",
      "Total params: 40,898,762\n",
      "Trainable params: 17,048,650\n",
      "Non-trainable params: 23,850,112\n",
      "_________________________________________________________________\n"
     ]
    }
   ],
   "source": [
    "new_model.summary()"
   ]
  },
  {
   "cell_type": "code",
   "execution_count": 20,
   "id": "automated-compatibility",
   "metadata": {
    "papermill": {
     "duration": 0.072948,
     "end_time": "2021-05-31T06:34:43.661513",
     "exception": false,
     "start_time": "2021-05-31T06:34:43.588565",
     "status": "completed"
    },
    "tags": []
   },
   "outputs": [],
   "source": [
    "new_model.compile(loss = 'categorical_crossentropy',optimizer='Adam',metrics=['accuracy'])"
   ]
  },
  {
   "cell_type": "code",
   "execution_count": 21,
   "id": "flexible-anaheim",
   "metadata": {
    "papermill": {
     "duration": 122.545138,
     "end_time": "2021-05-31T06:36:46.252466",
     "exception": false,
     "start_time": "2021-05-31T06:34:43.707328",
     "status": "completed"
    },
    "tags": []
   },
   "outputs": [
    {
     "name": "stdout",
     "output_type": "stream",
     "text": [
      "Found 799 validated image filenames belonging to 10 classes.\n",
      "Found 200 validated image filenames belonging to 10 classes.\n"
     ]
    },
    {
     "name": "stderr",
     "output_type": "stream",
     "text": [
      "C:\\Users\\Sumit\\miniconda3\\envs\\tf-cuda\\lib\\site-packages\\keras\\preprocessing\\image.py:1139: UserWarning: Found 1 invalid image filename(s) in x_col=\"path\". These filename(s) will be ignored.\n",
      "  warnings.warn(\n"
     ]
    },
    {
     "name": "stdout",
     "output_type": "stream",
     "text": [
      "Epoch 1/30\n",
      "8/8 [==============================] - 31s 3s/step - loss: 2.3305 - accuracy: 0.2453 - val_loss: 4.2620 - val_accuracy: 0.4000\n",
      "Epoch 2/30\n",
      "8/8 [==============================] - 11s 1s/step - loss: 1.7738 - accuracy: 0.4030 - val_loss: 2.4437 - val_accuracy: 0.4500\n",
      "Epoch 3/30\n",
      "8/8 [==============================] - 11s 1s/step - loss: 1.6348 - accuracy: 0.4318 - val_loss: 1.9358 - val_accuracy: 0.5100\n",
      "Epoch 4/30\n",
      "8/8 [==============================] - 11s 1s/step - loss: 1.4958 - accuracy: 0.4493 - val_loss: 1.7116 - val_accuracy: 0.5100\n",
      "Epoch 5/30\n",
      "8/8 [==============================] - 11s 1s/step - loss: 1.3565 - accuracy: 0.5244 - val_loss: 1.5752 - val_accuracy: 0.5150\n",
      "Epoch 6/30\n",
      "8/8 [==============================] - 10s 1s/step - loss: 1.2360 - accuracy: 0.5807 - val_loss: 1.4835 - val_accuracy: 0.5100\n",
      "Epoch 7/30\n",
      "8/8 [==============================] - 11s 1s/step - loss: 1.1166 - accuracy: 0.6170 - val_loss: 1.4025 - val_accuracy: 0.5300\n",
      "Epoch 8/30\n",
      "8/8 [==============================] - 11s 1s/step - loss: 1.0840 - accuracy: 0.6233 - val_loss: 1.3338 - val_accuracy: 0.5450\n",
      "Epoch 9/30\n",
      "8/8 [==============================] - 11s 1s/step - loss: 0.9862 - accuracy: 0.6696 - val_loss: 1.2814 - val_accuracy: 0.5650\n",
      "Epoch 10/30\n",
      "8/8 [==============================] - 11s 1s/step - loss: 0.8814 - accuracy: 0.7247 - val_loss: 1.2421 - val_accuracy: 0.5750\n",
      "Epoch 11/30\n",
      "8/8 [==============================] - 11s 1s/step - loss: 0.8213 - accuracy: 0.7559 - val_loss: 1.2183 - val_accuracy: 0.5900\n",
      "Epoch 12/30\n",
      "8/8 [==============================] - 10s 1s/step - loss: 0.7476 - accuracy: 0.7559 - val_loss: 1.2217 - val_accuracy: 0.5750\n",
      "Epoch 13/30\n",
      "8/8 [==============================] - 10s 1s/step - loss: 0.6799 - accuracy: 0.7960 - val_loss: 1.2094 - val_accuracy: 0.5850\n",
      "Epoch 14/30\n",
      "8/8 [==============================] - 11s 1s/step - loss: 0.5731 - accuracy: 0.8285 - val_loss: 1.1943 - val_accuracy: 0.5950\n",
      "Epoch 15/30\n",
      "8/8 [==============================] - 11s 1s/step - loss: 0.5275 - accuracy: 0.8473 - val_loss: 1.1558 - val_accuracy: 0.6000\n",
      "Epoch 16/30\n",
      "8/8 [==============================] - 11s 1s/step - loss: 0.4964 - accuracy: 0.8548 - val_loss: 1.1467 - val_accuracy: 0.6150\n",
      "Epoch 17/30\n",
      "8/8 [==============================] - 10s 1s/step - loss: 0.4234 - accuracy: 0.8886 - val_loss: 1.1406 - val_accuracy: 0.6150\n",
      "Epoch 18/30\n",
      "8/8 [==============================] - 11s 1s/step - loss: 0.3649 - accuracy: 0.9074 - val_loss: 1.1241 - val_accuracy: 0.6150\n",
      "Epoch 19/30\n",
      "8/8 [==============================] - 11s 1s/step - loss: 0.3271 - accuracy: 0.9249 - val_loss: 1.1075 - val_accuracy: 0.6300\n",
      "Epoch 20/30\n",
      "8/8 [==============================] - 11s 1s/step - loss: 0.3264 - accuracy: 0.9174 - val_loss: 1.1067 - val_accuracy: 0.6350\n",
      "Epoch 21/30\n",
      "8/8 [==============================] - 10s 1s/step - loss: 0.3096 - accuracy: 0.9111 - val_loss: 1.1005 - val_accuracy: 0.6350\n",
      "Epoch 22/30\n",
      "8/8 [==============================] - 10s 1s/step - loss: 0.3021 - accuracy: 0.9212 - val_loss: 1.0981 - val_accuracy: 0.6150\n",
      "Epoch 23/30\n",
      "8/8 [==============================] - 11s 1s/step - loss: 0.2429 - accuracy: 0.9449 - val_loss: 1.1011 - val_accuracy: 0.6150\n"
     ]
    },
    {
     "data": {
      "text/plain": [
       "<keras.callbacks.History at 0x284d76c7d30>"
      ]
     },
     "execution_count": 21,
     "metadata": {},
     "output_type": "execute_result"
    }
   ],
   "source": [
    "from tensorflow.keras.callbacks import EarlyStopping\n",
    "es = EarlyStopping(\n",
    "    monitor='val_accuracy', restore_best_weights=True, patience=3\n",
    ")\n",
    "\n",
    "new_model.fit(datagen.flow_from_dataframe(\n",
    "    X_train,\n",
    "    x_col=\"path\",\n",
    "    y_col=\"genre\",batch_size=100),\n",
    "              validation_data=datagen.flow_from_dataframe(\n",
    "            X_test,\n",
    "            x_col=\"path\",\n",
    "            y_col=\"genre\",batch_size=64),epochs=30,callbacks=[es])"
   ]
  },
  {
   "cell_type": "code",
   "execution_count": 22,
   "id": "direct-marathon",
   "metadata": {
    "papermill": {
     "duration": 1.566659,
     "end_time": "2021-05-31T06:36:47.892946",
     "exception": false,
     "start_time": "2021-05-31T06:36:46.326287",
     "status": "completed"
    },
    "tags": []
   },
   "outputs": [
    {
     "name": "stdout",
     "output_type": "stream",
     "text": [
      "Found 200 validated image filenames belonging to 10 classes.\n",
      "4/4 [==============================] - 2s 445ms/step - loss: 1.1067 - accuracy: 0.6350\n"
     ]
    },
    {
     "data": {
      "text/plain": [
       "[1.1067193746566772, 0.6349999904632568]"
      ]
     },
     "execution_count": 22,
     "metadata": {},
     "output_type": "execute_result"
    }
   ],
   "source": [
    "new_model.evaluate(datagen.flow_from_dataframe(\n",
    "    X_test,\n",
    "    x_col=\"path\",\n",
    "    y_col=\"genre\",batch_size=64))"
   ]
  }
 ],
 "metadata": {
  "kernelspec": {
   "display_name": "Python 3.10.8 64-bit (microsoft store)",
   "language": "python",
   "name": "python3"
  },
  "language_info": {
   "codemirror_mode": {
    "name": "ipython",
    "version": 3
   },
   "file_extension": ".py",
   "mimetype": "text/x-python",
   "name": "python",
   "nbconvert_exporter": "python",
   "pygments_lexer": "ipython3",
   "version": "3.10.8"
  },
  "papermill": {
   "default_parameters": {},
   "duration": 147.721252,
   "end_time": "2021-05-31T06:36:50.451529",
   "environment_variables": {},
   "exception": null,
   "input_path": "__notebook__.ipynb",
   "output_path": "__notebook__.ipynb",
   "parameters": {},
   "start_time": "2021-05-31T06:34:22.730277",
   "version": "2.3.3"
  },
  "vscode": {
   "interpreter": {
    "hash": "55fa29ce3401f4ee7cb39a37c096b57b35d4f7e3f09717c6723a59ba6e891320"
   }
  }
 },
 "nbformat": 4,
 "nbformat_minor": 5
}
